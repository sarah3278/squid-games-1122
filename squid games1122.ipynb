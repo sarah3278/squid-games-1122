import pandas as pd


import numpy as np


import matplotlib as plt


import seaborn as sns


df1=pd.read_csv("tweets_v8.csv")


df1.head()


import nltk
import re
nltk.download('stopwords')
stemmer = nltk.SnowballStemmer("english")
from nltk.corpus import stopwords
import string
stopword=set(stopwords.words('english'))

def clean(text):
    text = str(text).lower()
    text = re.sub('\[.*?\]', '', text)
    text = re.sub('https?://\S+|www\.\S+', '', text)
    text = re.sub('<.*?>+', '', text)
    text = re.sub('[%s]' % re.escape(string.punctuation), '', text)
    text = re.sub('\n', '', text)
    text = re.sub('\w*\d\w*', '', text)
    text = [word for word in text.split(' ') if word not in stopword]
    text=" ".join(text)
    text = [stemmer.stem(word) for word in text.split(' ')]
    text=" ".join(text)
  
   
    return text
df1["text"] = df1["text"].apply(clean)




!pip install wordcloud


import matplotlib.pyplot as plt
from wordcloud import WordCloud , STOPWORDS

text = " ".join(i for i in df1.text)
stopwords = set(STOPWORDS)
wordcloud = WordCloud(stopwords=stopwords, background_color="blue").generate(text)
plt.figure( figsize=(15,10))
plt.imshow(wordcloud, interpolation='bilinear')
plt.axis("off")
plt.show()


from nltk.sentiment.vader import SentimentIntensityAnalyzer

nltk.download('vader_lexicon')
sentiments = SentimentIntensityAnalyzer()
df1["Positive"] = [sentiments.polarity_scores(i)["pos"] for i in df1["text"]]
df1["Negative"] = [sentiments.polarity_scores(i)["neg"] for i in df1["text"]]
df1["Neutral"] = [sentiments.polarity_scores(i)["neu"] for i in df1["text"]]
df1 = df1[["text", "Positive", "Negative", "Neutral"]]



x = sum(df1["Positive"])
y = sum(df1["Negative"])
z = sum(df1["Neutral"])

def sentiment_score(a, b, c):
    if (a>b) and (a>c):
        print("Positive 😊 ")
    elif (b>a) and (b>c):
        print("Negative 😠 ")
    else:
        print("Neutral 🙂 ")
sentiment_score(x, y, z)


print("Positive: ", x)
print("Negative: ", y)
print("Neutral: ", z)



